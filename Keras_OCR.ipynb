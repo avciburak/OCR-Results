{
 "cells": [
  {
   "cell_type": "code",
   "execution_count": 2,
   "metadata": {},
   "outputs": [],
   "source": [
    "\n",
    "import keras_ocr\n",
    "import PIL.Image\n",
    "import os"
   ]
  },
  {
   "cell_type": "code",
   "execution_count": 3,
   "metadata": {},
   "outputs": [
    {
     "name": "stdout",
     "output_type": "stream",
     "text": [
      "Looking for C:\\Users\\burak\\.keras-ocr\\craft_mlt_25k.h5\n",
      "Downloading C:\\Users\\burak\\.keras-ocr\\craft_mlt_25k.h5\n",
      "Looking for C:\\Users\\burak\\.keras-ocr\\crnn_kurapan.h5\n",
      "Downloading C:\\Users\\burak\\.keras-ocr\\crnn_kurapan.h5\n"
     ]
    }
   ],
   "source": [
    "pipeline = keras_ocr.pipeline.Pipeline()"
   ]
  },
  {
   "cell_type": "code",
   "execution_count": 17,
   "metadata": {},
   "outputs": [],
   "source": [
    "path=\"notesA1.jpg\""
   ]
  },
  {
   "cell_type": "code",
   "execution_count": 21,
   "metadata": {},
   "outputs": [
    {
     "ename": "AssertionError",
     "evalue": "Could not find image at path: D",
     "output_type": "error",
     "traceback": [
      "\u001b[1;31m---------------------------------------------------------------------------\u001b[0m",
      "\u001b[1;31mAssertionError\u001b[0m                            Traceback (most recent call last)",
      "Cell \u001b[1;32mIn [21], line 1\u001b[0m\n\u001b[1;32m----> 1\u001b[0m prediction_groups \u001b[39m=\u001b[39m pipeline\u001b[39m.\u001b[39;49mrecognize(\u001b[39m\"\u001b[39;49m\u001b[39mD:\u001b[39;49m\u001b[39m\\\\\u001b[39;49;00m\u001b[39mOCR\u001b[39;49m\u001b[39m\\\\\u001b[39;49;00m\u001b[39mnotesA1.jpg\u001b[39;49m\u001b[39m\"\u001b[39;49m)\n",
      "File \u001b[1;32m~\\AppData\\Local\\Packages\\PythonSoftwareFoundation.Python.3.9_qbz5n2kfra8p0\\LocalCache\\local-packages\\Python39\\site-packages\\keras_ocr\\pipeline.py:42\u001b[0m, in \u001b[0;36mPipeline.recognize\u001b[1;34m(self, images, detection_kwargs, recognition_kwargs)\u001b[0m\n\u001b[0;32m     40\u001b[0m \u001b[39m# Make sure we have an image array to start with.\u001b[39;00m\n\u001b[0;32m     41\u001b[0m \u001b[39mif\u001b[39;00m \u001b[39mnot\u001b[39;00m \u001b[39misinstance\u001b[39m(images, np\u001b[39m.\u001b[39mndarray):\n\u001b[1;32m---> 42\u001b[0m     images \u001b[39m=\u001b[39m [tools\u001b[39m.\u001b[39mread(image) \u001b[39mfor\u001b[39;00m image \u001b[39min\u001b[39;00m images]\n\u001b[0;32m     43\u001b[0m \u001b[39m# This turns images into (image, scale) tuples temporarily\u001b[39;00m\n\u001b[0;32m     44\u001b[0m images \u001b[39m=\u001b[39m [\n\u001b[0;32m     45\u001b[0m     tools\u001b[39m.\u001b[39mresize_image(image, max_scale\u001b[39m=\u001b[39m\u001b[39mself\u001b[39m\u001b[39m.\u001b[39mscale, max_size\u001b[39m=\u001b[39m\u001b[39mself\u001b[39m\u001b[39m.\u001b[39mmax_size)\n\u001b[0;32m     46\u001b[0m     \u001b[39mfor\u001b[39;00m image \u001b[39min\u001b[39;00m images\n\u001b[0;32m     47\u001b[0m ]\n",
      "File \u001b[1;32m~\\AppData\\Local\\Packages\\PythonSoftwareFoundation.Python.3.9_qbz5n2kfra8p0\\LocalCache\\local-packages\\Python39\\site-packages\\keras_ocr\\pipeline.py:42\u001b[0m, in \u001b[0;36m<listcomp>\u001b[1;34m(.0)\u001b[0m\n\u001b[0;32m     40\u001b[0m \u001b[39m# Make sure we have an image array to start with.\u001b[39;00m\n\u001b[0;32m     41\u001b[0m \u001b[39mif\u001b[39;00m \u001b[39mnot\u001b[39;00m \u001b[39misinstance\u001b[39m(images, np\u001b[39m.\u001b[39mndarray):\n\u001b[1;32m---> 42\u001b[0m     images \u001b[39m=\u001b[39m [tools\u001b[39m.\u001b[39;49mread(image) \u001b[39mfor\u001b[39;00m image \u001b[39min\u001b[39;00m images]\n\u001b[0;32m     43\u001b[0m \u001b[39m# This turns images into (image, scale) tuples temporarily\u001b[39;00m\n\u001b[0;32m     44\u001b[0m images \u001b[39m=\u001b[39m [\n\u001b[0;32m     45\u001b[0m     tools\u001b[39m.\u001b[39mresize_image(image, max_scale\u001b[39m=\u001b[39m\u001b[39mself\u001b[39m\u001b[39m.\u001b[39mscale, max_size\u001b[39m=\u001b[39m\u001b[39mself\u001b[39m\u001b[39m.\u001b[39mmax_size)\n\u001b[0;32m     46\u001b[0m     \u001b[39mfor\u001b[39;00m image \u001b[39min\u001b[39;00m images\n\u001b[0;32m     47\u001b[0m ]\n",
      "File \u001b[1;32m~\\AppData\\Local\\Packages\\PythonSoftwareFoundation.Python.3.9_qbz5n2kfra8p0\\LocalCache\\local-packages\\Python39\\site-packages\\keras_ocr\\tools.py:34\u001b[0m, in \u001b[0;36mread\u001b[1;34m(filepath_or_buffer)\u001b[0m\n\u001b[0;32m     32\u001b[0m     \u001b[39mif\u001b[39;00m validators\u001b[39m.\u001b[39murl(filepath_or_buffer):\n\u001b[0;32m     33\u001b[0m         \u001b[39mreturn\u001b[39;00m read(urllib\u001b[39m.\u001b[39mrequest\u001b[39m.\u001b[39murlopen(filepath_or_buffer))\n\u001b[1;32m---> 34\u001b[0m     \u001b[39massert\u001b[39;00m os\u001b[39m.\u001b[39mpath\u001b[39m.\u001b[39misfile(filepath_or_buffer), (\n\u001b[0;32m     35\u001b[0m         \u001b[39m\"\u001b[39m\u001b[39mCould not find image at path: \u001b[39m\u001b[39m\"\u001b[39m \u001b[39m+\u001b[39m filepath_or_buffer\n\u001b[0;32m     36\u001b[0m     )\n\u001b[0;32m     37\u001b[0m     image \u001b[39m=\u001b[39m cv2\u001b[39m.\u001b[39mimread(filepath_or_buffer)\n\u001b[0;32m     38\u001b[0m \u001b[39mreturn\u001b[39;00m cv2\u001b[39m.\u001b[39mcvtColor(image, cv2\u001b[39m.\u001b[39mCOLOR_BGR2RGB)\n",
      "\u001b[1;31mAssertionError\u001b[0m: Could not find image at path: D"
     ]
    }
   ],
   "source": [
    "prediction_groups = pipeline.recognize(\"D:\\\\OCR\\\\notesA1.jpg\")"
   ]
  }
 ],
 "metadata": {
  "kernelspec": {
   "display_name": "Python 3.9.13 64-bit (microsoft store)",
   "language": "python",
   "name": "python3"
  },
  "language_info": {
   "codemirror_mode": {
    "name": "ipython",
    "version": 3
   },
   "file_extension": ".py",
   "mimetype": "text/x-python",
   "name": "python",
   "nbconvert_exporter": "python",
   "pygments_lexer": "ipython3",
   "version": "3.9.13"
  },
  "orig_nbformat": 4,
  "vscode": {
   "interpreter": {
    "hash": "2b2ab5df386526388074a24f52977a4b5949b6ec9e2402ce0c4cf1ae4c150783"
   }
  }
 },
 "nbformat": 4,
 "nbformat_minor": 2
}
